{
 "cells": [
  {
   "cell_type": "code",
   "execution_count": 8,
   "metadata": {},
   "outputs": [],
   "source": [
    "# reference variables"
   ]
  },
  {
   "cell_type": "code",
   "execution_count": 9,
   "metadata": {},
   "outputs": [
    {
     "name": "stdout",
     "output_type": "stream",
     "text": [
      "False\n",
      "True\n",
      "True\n",
      "True\n"
     ]
    }
   ],
   "source": [
    "\n",
    "# is vs ==\n",
    "# == compares value\n",
    "# is compares reference\n",
    "# -6 to 256 values are reserved so they will have same value and references\n",
    "a = 1000\n",
    "b = 1000\n",
    "print(a is b) # False\n",
    "print(a == b) # True\n",
    "c = 10\n",
    "d = 10\n",
    "print(c is d) # True\n",
    "print(c == d) # True"
   ]
  },
  {
   "cell_type": "code",
   "execution_count": 29,
   "metadata": {},
   "outputs": [
    {
     "name": "stdout",
     "output_type": "stream",
     "text": [
      "<class 'int'>\n",
      "<class 'int'>\n",
      "true\n"
     ]
    }
   ],
   "source": [
    "# size of any int type is size of RAM that is why Python is slow as compare to C++\n",
    "# we can store any bytes of int upto which your RAM can bear\n",
    "a = 2242352332636363\n",
    "print(type(a))\n",
    "b = a ** 100\n",
    "print(type(b))\n",
    "\n",
    "if(\"ee\"): # zero,\"\",[],{}... is false here and other are true\n",
    "    print(\"true\")\n",
    "else:\n",
    "    print(\"false\")\n"
   ]
  },
  {
   "cell_type": "code",
   "execution_count": 19,
   "metadata": {},
   "outputs": [
    {
     "name": "stdout",
     "output_type": "stream",
     "text": [
      "[23, 4, 4]\n"
     ]
    }
   ],
   "source": [
    "a = [2,4,4]\n",
    "b = a\n",
    "b[0] = 23\n",
    "print(a)\n",
    "c = None # c gets deleted in garbage collection"
   ]
  },
  {
   "cell_type": "code",
   "execution_count": null,
   "metadata": {},
   "outputs": [],
   "source": [
    "# Data types \n",
    "# immutable and mutable"
   ]
  },
  {
   "cell_type": "code",
   "execution_count": 17,
   "metadata": {},
   "outputs": [
    {
     "name": "stdout",
     "output_type": "stream",
     "text": [
      "6\n",
      "2\n"
     ]
    }
   ],
   "source": [
    "# list -> can store multiple types of data type\n",
    "a = [2,4,6,'p']\n",
    "print(a[2]) # starts with 0\n",
    "print(a[-4]) # count starts from -1 from last index"
   ]
  },
  {
   "cell_type": "code",
   "execution_count": 24,
   "metadata": {},
   "outputs": [
    {
     "name": "stdout",
     "output_type": "stream",
     "text": [
      "(2, 3, 5)\n",
      "(4, 5)\n",
      "([2, 23], [2, 5])\n"
     ]
    }
   ],
   "source": [
    "# Tuple -> immutable\n",
    "a = (2,3,5)\n",
    "print(a)\n",
    "# cannot change values like a[0] = 23\n",
    "# but we can assign new value\n",
    "a = (4,5)\n",
    "print(a)\n",
    "# if we create list in tuple we can update list\n",
    "c = ([2,3],[2,5])\n",
    "c[0][1] = 23\n",
    "print(c)"
   ]
  },
  {
   "cell_type": "code",
   "execution_count": 2,
   "metadata": {},
   "outputs": [
    {
     "name": "stdout",
     "output_type": "stream",
     "text": [
      "{2, 4, 6}\n"
     ]
    }
   ],
   "source": [
    "#sets -> unique collections of elements (immutable)\n",
    "a = {2,4,4,6}\n",
    "print(a)"
   ]
  },
  {
   "cell_type": "code",
   "execution_count": 4,
   "metadata": {},
   "outputs": [
    {
     "data": {
      "text/plain": [
       "'Shubham'"
      ]
     },
     "execution_count": 4,
     "metadata": {},
     "output_type": "execute_result"
    }
   ],
   "source": [
    "#dictionary -> key-value pairs, key should be unique\n",
    "d = {\n",
    "    \"name\":\"Shubham\",\n",
    "    \"surname\":\"Mete\"\n",
    "}\n",
    "d[\"name\"]"
   ]
  },
  {
   "cell_type": "code",
   "execution_count": 17,
   "metadata": {},
   "outputs": [
    {
     "name": "stdout",
     "output_type": "stream",
     "text": [
      "[2, 3, 4, 6, 9]\n",
      "[2, 3, 4, 6]\n",
      "[2, 3, 4, 6, 9]\n",
      "[2, 4, 9]\n",
      "[9, 6, 4, 3, 2]\n"
     ]
    }
   ],
   "source": [
    "# slicing\n",
    "a = [2,3,4,6,9]\n",
    "print(a[:]) # prints all elements of list\n",
    "print(a[0:4]) # print upto 6 as last index is exclusive\n",
    "print(a[0:9]) # prints full list and does not give index out of bound error\n",
    "print(a[0:5:2]) # last one increments index by 2 so 0,2,4...\n",
    "# reverse\n",
    "print(a[-1::-1]) # from last decrementing by 1"
   ]
  },
  {
   "cell_type": "code",
   "execution_count": null,
   "metadata": {},
   "outputs": [],
   "source": [
    "# conditionals\n",
    "if a<2:\n",
    "    print(\"less\")\n",
    "elif a>2:\n",
    "    print(\"more\")\n",
    "else:\n",
    "    print(\"equal\")"
   ]
  },
  {
   "cell_type": "code",
   "execution_count": 74,
   "metadata": {},
   "outputs": [
    {
     "name": "stdout",
     "output_type": "stream",
     "text": [
      "4\n",
      "6\n",
      "9\n",
      "10\n",
      "h\n",
      "e\n",
      "l\n",
      "l\n",
      "o\n"
     ]
    }
   ],
   "source": [
    "#loops\n",
    "a = [2,4,7,8]\n",
    "for num in a:\n",
    "    print(num+2)\n",
    "\n",
    "a = \"hello\"\n",
    "for ch in a:\n",
    "    print(ch)\n",
    "\n",
    "# string is immutable\n",
    "# a[1]=\"2\" error\n",
    "    \n",
    "\n"
   ]
  },
  {
   "cell_type": "code",
   "execution_count": 35,
   "metadata": {},
   "outputs": [
    {
     "name": "stdout",
     "output_type": "stream",
     "text": [
      "0 -> 2\n",
      "0 -> 2\n",
      "1 -> 3\n",
      "1 -> 3\n",
      "2 -> 6\n",
      "2 -> 6\n",
      "3 -> 8\n",
      "3 -> 8\n",
      "4 -> 9\n",
      "4 -> 9\n"
     ]
    }
   ],
   "source": [
    "# enummerate in for loop\n",
    "a = [2,3,6,8,9]\n",
    "for index, elem in enumerate(a):\n",
    "    print(index,\"->\",elem)\n",
    "    print(index,\"->\",a[index])"
   ]
  },
  {
   "cell_type": "code",
   "execution_count": null,
   "metadata": {},
   "outputs": [],
   "source": []
  },
  {
   "cell_type": "code",
   "execution_count": 49,
   "metadata": {},
   "outputs": [
    {
     "name": "stdout",
     "output_type": "stream",
     "text": [
      "Before a = 2  and b =  3\n",
      "After a = 3  and b =  2\n"
     ]
    }
   ],
   "source": [
    "# swap values\n",
    "a = 2\n",
    "b = 3\n",
    "print(\"Before a =\", a ,\" and b = \",b)\n",
    "a,b = b,a\n",
    "print(\"After a =\", a ,\" and b = \",b)"
   ]
  },
  {
   "cell_type": "code",
   "execution_count": 53,
   "metadata": {},
   "outputs": [
    {
     "name": "stdout",
     "output_type": "stream",
     "text": [
      "1\n",
      "2\n",
      "3\n",
      "4\n",
      "5\n"
     ]
    }
   ],
   "source": [
    "# while\n",
    "a = 1\n",
    "while a <=5:\n",
    "    print(a)\n",
    "    a = a+1"
   ]
  },
  {
   "cell_type": "code",
   "execution_count": 57,
   "metadata": {},
   "outputs": [
    {
     "name": "stdout",
     "output_type": "stream",
     "text": [
      "range(1, 10, 2)\n",
      "[1, 3, 5, 7, 9]\n"
     ]
    }
   ],
   "source": [
    "# Range\n",
    "a = range(1,10,2)\n",
    "print(a)\n",
    "a = list(range(1,10,2))\n",
    "print(a)"
   ]
  },
  {
   "cell_type": "code",
   "execution_count": 61,
   "metadata": {},
   "outputs": [
    {
     "name": "stdout",
     "output_type": "stream",
     "text": [
      "1\n",
      "2\n",
      "3\n",
      "4\n",
      "5\n",
      "[1, 2, 3, 4, 5]\n",
      "[2, 4, 6, 8, 10, 12, 14, 16, 18, 20]\n"
     ]
    }
   ],
   "source": [
    "for num in range(1,6):\n",
    "    print(num)\n",
    "\n",
    "# for loop in list\n",
    "a = [i for i in range(1,6)]\n",
    "print(a)"
   ]
  },
  {
   "cell_type": "code",
   "execution_count": 63,
   "metadata": {},
   "outputs": [
    {
     "name": "stdout",
     "output_type": "stream",
     "text": [
      "{2, 4, 6}\n",
      "[2, 4, 6]\n"
     ]
    }
   ],
   "source": [
    "# type conversion\n",
    "a = {2,4,6,6}\n",
    "print(a)\n",
    "b = list(a)\n",
    "print(b)"
   ]
  },
  {
   "cell_type": "code",
   "execution_count": 73,
   "metadata": {},
   "outputs": [
    {
     "name": "stdout",
     "output_type": "stream",
     "text": [
      "[[2, 4, 6], [2, 6, 4, 2, 1]]\n",
      "2 4 6 \n",
      "2 6 4 2 1 \n"
     ]
    }
   ],
   "source": [
    "# 2D list\n",
    "a = [\n",
    "    [2,4,6],\n",
    "    [2,6,4,2,1]\n",
    "]\n",
    "print(a)\n",
    "\n",
    "for i in range(0,len(a)):\n",
    "    for j in range(0,len(a[i])):\n",
    "        print(a[i][j], end=\" \")\n",
    "    print()\n",
    "        # end denotes how to end output by default it is new line we can justify it"
   ]
  },
  {
   "cell_type": "code",
   "execution_count": 76,
   "metadata": {},
   "outputs": [
    {
     "name": "stdout",
     "output_type": "stream",
     "text": [
      "[2, 4, 6, 8, 10, 12, 14, 16, 18, 20]\n",
      "[[1, 2, 3, 4, 5, 6, 7, 8, 9, 10], [2, 4, 6, 8, 10, 12, 14, 16, 18, 20], [3, 6, 9, 12, 15, 18, 21, 24, 27, 30], [4, 8, 12, 16, 20, 24, 28, 32, 36, 40], [5, 10, 15, 20, 25, 30, 35, 40, 45, 50], [6, 12, 18, 24, 30, 36, 42, 48, 54, 60], [7, 14, 21, 28, 35, 42, 49, 56, 63, 70], [8, 16, 24, 32, 40, 48, 56, 64, 72, 80], [9, 18, 27, 36, 45, 54, 63, 72, 81, 90], [10, 20, 30, 40, 50, 60, 70, 80, 90, 100]]\n"
     ]
    }
   ],
   "source": [
    "# for loop in list\n",
    "table_of_two = [i*2 for i in range(1,11)]\n",
    "print(table_of_two)\n",
    "\n",
    "\n",
    "a = [[i*n for i in range(1,11)] for n in range(1,11) ]\n",
    "print(a)"
   ]
  },
  {
   "cell_type": "code",
   "execution_count": 81,
   "metadata": {},
   "outputs": [
    {
     "name": "stdout",
     "output_type": "stream",
     "text": [
      "1 2 3 4 5 \n",
      "1 2 3 4 5 7 8 9 10 "
     ]
    }
   ],
   "source": [
    "# break vs continue\n",
    "\n",
    "for i in range(1,11):\n",
    "    if i == 6:\n",
    "        break # ends loop at i == 6\n",
    "    print(i,end=\" \")\n",
    "print()\n",
    "for i in range(1,11):\n",
    "    if i == 6:\n",
    "        continue # skips loop at i == 6\n",
    "    print(i,end=\" \")"
   ]
  },
  {
   "cell_type": "code",
   "execution_count": 87,
   "metadata": {},
   "outputs": [
    {
     "name": "stdout",
     "output_type": "stream",
     "text": [
      "hello\n",
      "hello\n",
      "None\n",
      "3\n",
      "5\n"
     ]
    }
   ],
   "source": [
    "# functions\n",
    "\n",
    "def func():\n",
    "    print(\"hello\")\n",
    "func()\n",
    "a = func()\n",
    "print(a)  # return None if return type is not defined\n",
    "\n",
    "def no():\n",
    "    return 3\n",
    "# functions are also objects so we can assign function in variables\n",
    "# also called as first order functions\n",
    "a = no()\n",
    "print(a)\n",
    "\n",
    "def sum(a,b):\n",
    "    return a+b\n",
    "print(sum(2,3))"
   ]
  },
  {
   "cell_type": "code",
   "execution_count": 97,
   "metadata": {},
   "outputs": [
    {
     "name": "stdout",
     "output_type": "stream",
     "text": [
      "10\n",
      "6\n"
     ]
    }
   ],
   "source": [
    "# lamba or inline functions\n",
    "\n",
    "def multiply(a,b):\n",
    "    return a*b\n",
    "print(multiply(2,5))\n",
    "\n",
    "product = lambda a,b : b*a\n",
    "print(product(2,3))"
   ]
  },
  {
   "cell_type": "code",
   "execution_count": 111,
   "metadata": {},
   "outputs": [
    {
     "name": "stdout",
     "output_type": "stream",
     "text": [
      "[4, 6, 10, 14, 8]\n",
      "[4, 6, 10, 14, 8]\n"
     ]
    }
   ],
   "source": [
    "# maps -> applies to each element of iterable\n",
    "a = [2,3,5,7,4]\n",
    "def product2(b):\n",
    "    return b*2\n",
    "print(list(map(product2,a)))\n",
    "print(list(map(lambda a: a*2,a)))"
   ]
  },
  {
   "cell_type": "code",
   "execution_count": 115,
   "metadata": {},
   "outputs": [
    {
     "name": "stdout",
     "output_type": "stream",
     "text": [
      "[2, 4, 6, 8, 10]\n"
     ]
    }
   ],
   "source": [
    "# filter\n",
    "# returns True or False if true then takes value and if false then ignore element\n",
    "\n",
    "a = [1,2,3,4,5,6,7,8,9,10]\n",
    "print(list(filter(lambda b : b%2==0,a )))"
   ]
  },
  {
   "cell_type": "code",
   "execution_count": 7,
   "metadata": {},
   "outputs": [
    {
     "name": "stdout",
     "output_type": "stream",
     "text": [
      "2\n",
      "2\n",
      "22\n",
      "4\n",
      "25\n"
     ]
    },
    {
     "data": {
      "text/plain": [
       "[2, 4]"
      ]
     },
     "execution_count": 7,
     "metadata": {},
     "output_type": "execute_result"
    }
   ],
   "source": [
    "# input\n",
    "a = input()\n",
    "print(a)\n",
    "b = input()\n",
    "print(b)\n",
    "print(a+b) # it is a string so it will concatenate\n",
    "\n",
    "# typecasting\n",
    "a = int(a)\n",
    "b = int(b)\n",
    "print(a+b) # now it will add the integer\n",
    "\n",
    "a = str(2)\n",
    "b = str(5)\n",
    "c= a+b\n",
    "print(c)\n",
    "\n",
    "list()\n",
    "tuple()\n",
    "dict()"
   ]
  },
  {
   "cell_type": "code",
   "execution_count": 11,
   "metadata": {},
   "outputs": [
    {
     "name": "stdout",
     "output_type": "stream",
     "text": [
      "['hello-shubham', 'mete']\n",
      "iejfeogugweug p\n"
     ]
    }
   ],
   "source": [
    "# strip split and join\n",
    "\n",
    "a = \"hello-shubham mete\"\n",
    "a = a.split(\" \") # pass the split factor\n",
    "print(a)\n",
    "\n",
    "a = \"    iejfeogugweug p    \"\n",
    "print(a.strip()) # removes extra space"
   ]
  }
 ],
 "metadata": {
  "kernelspec": {
   "display_name": "Python 3",
   "language": "python",
   "name": "python3"
  },
  "language_info": {
   "codemirror_mode": {
    "name": "ipython",
    "version": 3
   },
   "file_extension": ".py",
   "mimetype": "text/x-python",
   "name": "python",
   "nbconvert_exporter": "python",
   "pygments_lexer": "ipython3",
   "version": "3.12.0"
  }
 },
 "nbformat": 4,
 "nbformat_minor": 2
}
