{
 "cells": [
  {
   "cell_type": "code",
   "execution_count": 8,
   "metadata": {},
   "outputs": [],
   "source": [
    "# reference variables"
   ]
  },
  {
   "cell_type": "code",
   "execution_count": 9,
   "metadata": {},
   "outputs": [
    {
     "name": "stdout",
     "output_type": "stream",
     "text": [
      "False\n",
      "True\n",
      "True\n",
      "True\n"
     ]
    }
   ],
   "source": [
    "\n",
    "# is vs ==\n",
    "# == compares value\n",
    "# is compares reference\n",
    "# -6 to 256 values are reserved so they will have same value and references\n",
    "a = 1000\n",
    "b = 1000\n",
    "print(a is b) # False\n",
    "print(a == b) # True\n",
    "c = 10\n",
    "d = 10\n",
    "print(c is d) # True\n",
    "print(c == d) # True"
   ]
  },
  {
   "cell_type": "code",
   "execution_count": 11,
   "metadata": {},
   "outputs": [
    {
     "name": "stdout",
     "output_type": "stream",
     "text": [
      "<class 'int'>\n",
      "<class 'int'>\n"
     ]
    }
   ],
   "source": [
    "# size of any int type is size of RAM that is why Python is slow as compare to C++\n",
    "# we can store any bytes of int upto which your RAM can bear\n",
    "a = 2242352332636363\n",
    "print(type(a))\n",
    "b = a ** 100\n",
    "print(type(b))"
   ]
  },
  {
   "cell_type": "code",
   "execution_count": 19,
   "metadata": {},
   "outputs": [
    {
     "name": "stdout",
     "output_type": "stream",
     "text": [
      "[23, 4, 4]\n"
     ]
    }
   ],
   "source": [
    "a = [2,4,4]\n",
    "b = a\n",
    "b[0] = 23\n",
    "print(a)\n",
    "c = None # c gets deleted in garbage collection"
   ]
  },
  {
   "cell_type": "code",
   "execution_count": null,
   "metadata": {},
   "outputs": [],
   "source": [
    "# Data types \n",
    "# immutable and mutable"
   ]
  },
  {
   "cell_type": "code",
   "execution_count": 17,
   "metadata": {},
   "outputs": [
    {
     "name": "stdout",
     "output_type": "stream",
     "text": [
      "6\n",
      "2\n"
     ]
    }
   ],
   "source": [
    "# list -> can store multiple types of data type\n",
    "a = [2,4,6,'p']\n",
    "print(a[2]) # starts with 0\n",
    "print(a[-4]) # count starts from -1 from last index"
   ]
  },
  {
   "cell_type": "code",
   "execution_count": 24,
   "metadata": {},
   "outputs": [
    {
     "name": "stdout",
     "output_type": "stream",
     "text": [
      "(2, 3, 5)\n",
      "(4, 5)\n",
      "([2, 23], [2, 5])\n"
     ]
    }
   ],
   "source": [
    "# Tuple -> immutable\n",
    "a = (2,3,5)\n",
    "print(a)\n",
    "# cannot change values like a[0] = 23\n",
    "# but we can assign new value\n",
    "a = (4,5)\n",
    "print(a)\n",
    "# if we create list in tuple we can update list\n",
    "c = ([2,3],[2,5])\n",
    "c[0][1] = 23\n",
    "print(c)"
   ]
  }
 ],
 "metadata": {
  "kernelspec": {
   "display_name": "Python 3",
   "language": "python",
   "name": "python3"
  },
  "language_info": {
   "codemirror_mode": {
    "name": "ipython",
    "version": 3
   },
   "file_extension": ".py",
   "mimetype": "text/x-python",
   "name": "python",
   "nbconvert_exporter": "python",
   "pygments_lexer": "ipython3",
   "version": "3.12.0"
  }
 },
 "nbformat": 4,
 "nbformat_minor": 2
}
